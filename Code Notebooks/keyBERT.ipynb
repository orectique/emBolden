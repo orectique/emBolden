{
 "cells": [
  {
   "cell_type": "code",
   "execution_count": 11,
   "metadata": {},
   "outputs": [
    {
     "name": "stderr",
     "output_type": "stream",
     "text": [
      "c:\\Users\\orect\\miniconda3\\envs\\pdf\\lib\\site-packages\\tqdm\\auto.py:22: TqdmWarning: IProgress not found. Please update jupyter and ipywidgets. See https://ipywidgets.readthedocs.io/en/stable/user_install.html\n",
      "  from .autonotebook import tqdm as notebook_tqdm\n"
     ]
    }
   ],
   "source": [
    "from keybert import KeyBERT"
   ]
  },
  {
   "cell_type": "code",
   "execution_count": 31,
   "metadata": {},
   "outputs": [],
   "source": [
    "kb = KeyBERT()"
   ]
  },
  {
   "cell_type": "code",
   "execution_count": 69,
   "metadata": {},
   "outputs": [],
   "source": [
    "corpus = open('../Data/corpus.txt', 'r').read()"
   ]
  },
  {
   "cell_type": "code",
   "execution_count": 70,
   "metadata": {},
   "outputs": [],
   "source": [
    "corpus = corpus.replace('\\n', ' ')"
   ]
  },
  {
   "cell_type": "code",
   "execution_count": 62,
   "metadata": {},
   "outputs": [],
   "source": [
    "text = corpus\n",
    "\n",
    "keys = kb.extract_keywords(corpus, keyphrase_ngram_range=(1, 3), stop_words='english', use_maxsum=True, nr_candidates=20, top_n=19)\n",
    "\n",
    "wlist = []\n",
    "for key in keys:\n",
    "    temp = key[0].split()\n",
    "    for i in temp:\n",
    "        wlist.append(i)\n",
    "\n",
    "wlist = set(wlist)\n",
    "\n",
    "for word in wlist:\n",
    "    text = text.replace(word, f'**{word}**')"
   ]
  },
  {
   "cell_type": "code",
   "execution_count": 66,
   "metadata": {},
   "outputs": [],
   "source": [
    "with open('../Data/corpus1.md', 'w') as f:\n",
    "    f.write(text)"
   ]
  },
  {
   "cell_type": "code",
   "execution_count": 87,
   "metadata": {},
   "outputs": [],
   "source": [
    "out  = ''\n",
    "\n",
    "for sent in corpus.split('.'):\n",
    "    keys = kb.extract_keywords(sent, keyphrase_ngram_range=(1, 3), stop_words='english', use_maxsum=True, nr_candidates=20)\n",
    "\n",
    "    wlist = []\n",
    "    for key in keys:\n",
    "        if key[1] > 0.35:\n",
    "            temp = key[0].split()\n",
    "            for i in temp:\n",
    "                wlist.append(i)\n",
    "\n",
    "    wlist = set(wlist)\n",
    "    \n",
    "    for word in wlist:\n",
    "        sent = sent.replace(word, f'**{word}**')\n",
    "\n",
    "    out += sent + '. '"
   ]
  },
  {
   "cell_type": "code",
   "execution_count": 88,
   "metadata": {},
   "outputs": [],
   "source": [
    "with open('../Data/corpus2.md', 'w') as f:\n",
    "    f.write(out)"
   ]
  }
 ],
 "metadata": {
  "kernelspec": {
   "display_name": "Python 3.9.7 ('base')",
   "language": "python",
   "name": "python3"
  },
  "language_info": {
   "codemirror_mode": {
    "name": "ipython",
    "version": 3
   },
   "file_extension": ".py",
   "mimetype": "text/x-python",
   "name": "python",
   "nbconvert_exporter": "python",
   "pygments_lexer": "ipython3",
   "version": "3.9.7"
  },
  "orig_nbformat": 4,
  "vscode": {
   "interpreter": {
    "hash": "a6ae9d3c5abbe07b4a4eef03cc1aad290c4830ae64320dc0c5066ecb9bd33ac1"
   }
  }
 },
 "nbformat": 4,
 "nbformat_minor": 2
}
