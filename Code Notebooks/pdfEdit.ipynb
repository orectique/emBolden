{
 "cells": [
  {
   "cell_type": "code",
   "execution_count": 21,
   "metadata": {},
   "outputs": [],
   "source": [
    "from PyPDF2 import PdfFileWriter\n",
    "from PyPDF2.generic import DecodedStreamObject, EncodedStreamObject\n",
    "\n",
    "from PyPDF2 import PdfReader"
   ]
  },
  {
   "cell_type": "code",
   "execution_count": 2,
   "metadata": {},
   "outputs": [],
   "source": [
    "filePath = '../Data/researchPaper.pdf'"
   ]
  },
  {
   "cell_type": "code",
   "execution_count": 22,
   "metadata": {},
   "outputs": [],
   "source": [
    "reader = PdfReader(filePath)"
   ]
  },
  {
   "cell_type": "code",
   "execution_count": 23,
   "metadata": {},
   "outputs": [],
   "source": [
    "page = reader.pages[0]"
   ]
  },
  {
   "cell_type": "code",
   "execution_count": 25,
   "metadata": {},
   "outputs": [
    {
     "data": {
      "text/plain": [
       "\"The Incentive E\\x0bect of Scores: Ra ndomized Evidence\\nfrom Credit Committees\\n\\x03\\nDaniel Paravisini Antoinette Schoar\\nLSE M IT\\nJuly 2, 2015\\nAbstract\\nWe design a randomized controlled trial to evaluate the adoption of credit scor-\\ning with a bank that uses\\nsoft\\ninformation in small bus ines ses lending. We \\x0cnd\\nthat credit scores improve the pro ductivity of credit committees, reduce managerial\\ninvolvement in the loan approval pro cess, and increase the pro\\x0ctability of lending.\\nCredit committee memb ers' e\\x0bort and output also increas e when they\\nanticipate\\nthe\\nscore b ecoming available, indicating that scores improve incentives to use existing\\ninformation. Our results imply that cre dit scores im prove the e\\x0eciency and decen-\\ntralize decision-making in loan pro duction, which has implications for the optimal\\norganization of banks.\\n\\x03\\nWe are grateful to Heski Bar-Isaac, Greg Fischer, Luis Garicano, Danielle Li, Ulrike Malmendier,\\nAndrea Prat, Anjan Thakor, John Van Reenen, and the Arizona State University, Boston University,\\nColumbia University, Darmouth College - Tuck Scho ol of Business, HEC Scho ol of Management, Im-\\np erial College Business Scho ol, Europ ean Bank for Reconstruction and Development, Federal Reserve\\nBank of New York, Helsinki Center of Economic Research, Massachusetts Institute of Technology - Sloan\\nScho ol of Business, Northwestern University - Kellogg Scho ol of Management, Nova Scho ol of Business\\nand Economics, Queen Mary Scho ol of Economics and Finance, Swiss Financ e Institute - USI, Uni-\\nversity of Illinois Urbana-Champaign, University of Lausanne, University of London - Royal Holloway\\nCollege, University of Namur, University of Oxford - SAID Business Scho ol, University of Toulouse,\\nand Washington University seminar participants; and the CEPR Works ho p on Incentives, Management\\nand Organization, CEPR/AMID Development Economics Symp osium, the NBER Corp orate Finance\\nWorkshop, the NBER Pro ductivity, Innovation, and Entrepreneurship Works hop, and the NBER Orga-\\nnizational Economics Workshop participants for helpful comments and discussions. We wish to thank\\nBancaMia for their supp ort, and Gustavo Caballero, Ximena Cadenas, Isab e la Echeverry, Santiago Reyes\\nand Lucia Sanchez for exc ellent research assistance. We thank IPA for the funding that made this study\\np ossible. Please send corresp ondence to Daniel Paravisini (d.paravisini@lse .ac.uk) and Antoinette Schoar\\n(aschoar@mit.edu).\\n\""
      ]
     },
     "execution_count": 25,
     "metadata": {},
     "output_type": "execute_result"
    }
   ],
   "source": [
    "page.extract_text()"
   ]
  },
  {
   "cell_type": "code",
   "execution_count": null,
   "metadata": {},
   "outputs": [],
   "source": []
  }
 ],
 "metadata": {
  "kernelspec": {
   "display_name": "Python 3.10.4 ('embolden')",
   "language": "python",
   "name": "python3"
  },
  "language_info": {
   "codemirror_mode": {
    "name": "ipython",
    "version": 3
   },
   "file_extension": ".py",
   "mimetype": "text/x-python",
   "name": "python",
   "nbconvert_exporter": "python",
   "pygments_lexer": "ipython3",
   "version": "3.10.4"
  },
  "orig_nbformat": 4,
  "vscode": {
   "interpreter": {
    "hash": "3b1ec01f1976927f649f5037681711f5fdd13c59f2b1e7f94c020b10fda531b0"
   }
  }
 },
 "nbformat": 4,
 "nbformat_minor": 2
}
